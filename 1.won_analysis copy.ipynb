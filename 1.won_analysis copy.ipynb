{
 "cells": [
  {
   "cell_type": "code",
   "execution_count": 54,
   "metadata": {},
   "outputs": [
    {
     "name": "stderr",
     "output_type": "stream",
     "text": [
      "C:\\Users\\ThinkPad-PC\\AppData\\Local\\Temp\\ipykernel_2576\\1021263435.py:4: DtypeWarning: Columns (17,28) have mixed types. Specify dtype option on import or set low_memory=False.\n",
      "  crm_sales = pd.read_csv(r'..\\won_analysis\\all_spain_leads.csv')\n"
     ]
    }
   ],
   "source": [
    "import pandas as pd\n",
    "\n",
    "# CRM DATASET\n",
    "crm_sales = pd.read_csv(r'..\\won_analysis\\all_spain_leads.csv')\n",
    "\n",
    "# MKT DATASET\n",
    "mkt_sales =pd.read_csv(r'..\\won_analysis\\won_date.csv')\n",
    "\n",
    "# ADM DATASET\n",
    "adm_sales =pd.read_csv(r'..\\won_analysis\\cohorts.csv')"
   ]
  },
  {
   "cell_type": "code",
   "execution_count": 55,
   "metadata": {},
   "outputs": [],
   "source": [
    "mkt_sales = mkt_sales.drop_duplicates()\n",
    "crm_sales = crm_sales.drop_duplicates()"
   ]
  },
  {
   "cell_type": "code",
   "execution_count": 56,
   "metadata": {},
   "outputs": [],
   "source": [
    "merged_df = pd.merge(mkt_sales, crm_sales, on='email')"
   ]
  },
  {
   "cell_type": "code",
   "execution_count": 57,
   "metadata": {},
   "outputs": [],
   "source": [
    "mask = ['email','Course','created_at','won_date']\n",
    "result = merged_df[mask]"
   ]
  },
  {
   "cell_type": "code",
   "execution_count": 58,
   "metadata": {},
   "outputs": [],
   "source": [
    "result = result.sort_values('created_at').drop_duplicates('email',keep='first')"
   ]
  },
  {
   "cell_type": "code",
   "execution_count": 59,
   "metadata": {},
   "outputs": [
    {
     "name": "stderr",
     "output_type": "stream",
     "text": [
      "C:\\Users\\ThinkPad-PC\\AppData\\Local\\Temp\\ipykernel_2576\\3926651434.py:5: UserWarning: Could not infer format, so each element will be parsed individually, falling back to `dateutil`. To ensure parsing is consistent and as-expected, please specify a format.\n",
      "  result['won_date'] = pd.to_datetime(result['won_date'], errors='coerce').dt.tz_localize(None)\n"
     ]
    },
    {
     "data": {
      "text/html": [
       "<div>\n",
       "<style scoped>\n",
       "    .dataframe tbody tr th:only-of-type {\n",
       "        vertical-align: middle;\n",
       "    }\n",
       "\n",
       "    .dataframe tbody tr th {\n",
       "        vertical-align: top;\n",
       "    }\n",
       "\n",
       "    .dataframe thead th {\n",
       "        text-align: right;\n",
       "    }\n",
       "</style>\n",
       "<table border=\"1\" class=\"dataframe\">\n",
       "  <thead>\n",
       "    <tr style=\"text-align: right;\">\n",
       "      <th></th>\n",
       "      <th>email</th>\n",
       "      <th>Course</th>\n",
       "      <th>created_at</th>\n",
       "      <th>won_date</th>\n",
       "      <th>days_difference</th>\n",
       "    </tr>\n",
       "  </thead>\n",
       "  <tbody>\n",
       "    <tr>\n",
       "      <th>281</th>\n",
       "      <td>tatianacazorlacabezas@gmail.com</td>\n",
       "      <td>datascience-ml</td>\n",
       "      <td>2023-11-28 16:15:23.967267</td>\n",
       "      <td>2023-01-12</td>\n",
       "      <td>-321</td>\n",
       "    </tr>\n",
       "    <tr>\n",
       "      <th>222</th>\n",
       "      <td>dperfe@gmail.com</td>\n",
       "      <td>full-stack</td>\n",
       "      <td>2023-10-27 04:54:47.199272</td>\n",
       "      <td>2023-01-11</td>\n",
       "      <td>-290</td>\n",
       "    </tr>\n",
       "    <tr>\n",
       "      <th>282</th>\n",
       "      <td>andre.cortes11@gmail.com</td>\n",
       "      <td>full-stack</td>\n",
       "      <td>2023-11-11 14:07:05.644201</td>\n",
       "      <td>2023-02-12</td>\n",
       "      <td>-273</td>\n",
       "    </tr>\n",
       "    <tr>\n",
       "      <th>223</th>\n",
       "      <td>ernesto_epd@yahoo.com</td>\n",
       "      <td>full-stack</td>\n",
       "      <td>2023-10-30 11:16:50.380975</td>\n",
       "      <td>2023-02-11</td>\n",
       "      <td>-262</td>\n",
       "    </tr>\n",
       "    <tr>\n",
       "      <th>283</th>\n",
       "      <td>pedro.abel94@gmail.com</td>\n",
       "      <td>full-stack</td>\n",
       "      <td>2023-11-28 17:07:09.798736</td>\n",
       "      <td>2023-04-12</td>\n",
       "      <td>-231</td>\n",
       "    </tr>\n",
       "    <tr>\n",
       "      <th>...</th>\n",
       "      <td>...</td>\n",
       "      <td>...</td>\n",
       "      <td>...</td>\n",
       "      <td>...</td>\n",
       "      <td>...</td>\n",
       "    </tr>\n",
       "    <tr>\n",
       "      <th>1084</th>\n",
       "      <td>winston04carrillo@gmail.com</td>\n",
       "      <td>full-stack</td>\n",
       "      <td>2022-02-22 12:07:19.087845</td>\n",
       "      <td>2024-10-09</td>\n",
       "      <td>959</td>\n",
       "    </tr>\n",
       "    <tr>\n",
       "      <th>708</th>\n",
       "      <td>jason-ollivierre@hotmail.com</td>\n",
       "      <td>full-stack</td>\n",
       "      <td>2021-04-11 11:39:02.932194</td>\n",
       "      <td>2024-04-06</td>\n",
       "      <td>1090</td>\n",
       "    </tr>\n",
       "    <tr>\n",
       "      <th>324</th>\n",
       "      <td>vickygonrod@gmail.com</td>\n",
       "      <td>full-stack</td>\n",
       "      <td>2021-01-24 07:46:35.721728</td>\n",
       "      <td>2024-02-01</td>\n",
       "      <td>1102</td>\n",
       "    </tr>\n",
       "    <tr>\n",
       "      <th>346</th>\n",
       "      <td>nelson.lombo@gmail.com</td>\n",
       "      <td>datascience-ml</td>\n",
       "      <td>2021-06-29 22:03:11.912184</td>\n",
       "      <td>2024-12-01</td>\n",
       "      <td>1250</td>\n",
       "    </tr>\n",
       "    <tr>\n",
       "      <th>1412</th>\n",
       "      <td>andres.lazaro.nu@gmail.com</td>\n",
       "      <td>full-stack</td>\n",
       "      <td>2021-08-09 19:04:53.816940</td>\n",
       "      <td>2025-01-14</td>\n",
       "      <td>1253</td>\n",
       "    </tr>\n",
       "  </tbody>\n",
       "</table>\n",
       "<p>1059 rows × 5 columns</p>\n",
       "</div>"
      ],
      "text/plain": [
       "                                email          Course  \\\n",
       "281   tatianacazorlacabezas@gmail.com  datascience-ml   \n",
       "222                  dperfe@gmail.com      full-stack   \n",
       "282          andre.cortes11@gmail.com      full-stack   \n",
       "223             ernesto_epd@yahoo.com      full-stack   \n",
       "283            pedro.abel94@gmail.com      full-stack   \n",
       "...                               ...             ...   \n",
       "1084      winston04carrillo@gmail.com      full-stack   \n",
       "708      jason-ollivierre@hotmail.com      full-stack   \n",
       "324             vickygonrod@gmail.com      full-stack   \n",
       "346            nelson.lombo@gmail.com  datascience-ml   \n",
       "1412       andres.lazaro.nu@gmail.com      full-stack   \n",
       "\n",
       "                     created_at   won_date  days_difference  \n",
       "281  2023-11-28 16:15:23.967267 2023-01-12             -321  \n",
       "222  2023-10-27 04:54:47.199272 2023-01-11             -290  \n",
       "282  2023-11-11 14:07:05.644201 2023-02-12             -273  \n",
       "223  2023-10-30 11:16:50.380975 2023-02-11             -262  \n",
       "283  2023-11-28 17:07:09.798736 2023-04-12             -231  \n",
       "...                         ...        ...              ...  \n",
       "1084 2022-02-22 12:07:19.087845 2024-10-09              959  \n",
       "708  2021-04-11 11:39:02.932194 2024-04-06             1090  \n",
       "324  2021-01-24 07:46:35.721728 2024-02-01             1102  \n",
       "346  2021-06-29 22:03:11.912184 2024-12-01             1250  \n",
       "1412 2021-08-09 19:04:53.816940 2025-01-14             1253  \n",
       "\n",
       "[1059 rows x 5 columns]"
      ]
     },
     "execution_count": 59,
     "metadata": {},
     "output_type": "execute_result"
    }
   ],
   "source": [
    "import pandas as pd\n",
    "\n",
    "# Convertir columnas a tipos datetime apropiados sin zona horaria (tz-naive)\n",
    "result['created_at'] = pd.to_datetime(result['created_at']).dt.tz_localize(None)\n",
    "result['won_date'] = pd.to_datetime(result['won_date'], errors='coerce').dt.tz_localize(None)\n",
    "\n",
    "# Asegurarse de que won_date esté en el formato YYYY-MM-DD\n",
    "result['won_date'] = result['won_date'].dt.strftime('%Y-%m-%d')\n",
    "result['won_date'] = pd.to_datetime(result['won_date'])\n",
    "\n",
    "# Calcular la diferencia en días\n",
    "result['days_difference'] = (result['won_date'] - result['created_at']).dt.days\n",
    "\n",
    "# Ordenar el resultado\n",
    "result = result.sort_values(by='days_difference', ascending=True)\n",
    "\n",
    "result\n"
   ]
  },
  {
   "cell_type": "code",
   "execution_count": 60,
   "metadata": {},
   "outputs": [],
   "source": [
    "result.to_csv(r'C:\\Users\\ThinkPad-PC\\Documents\\GitHub\\won_analysis\\merged_result.csv',index=False)"
   ]
  },
  {
   "cell_type": "code",
   "execution_count": 61,
   "metadata": {},
   "outputs": [
    {
     "data": {
      "image/png": "[encoded data removed]",
      "text/plain": [
       "<Figure size 1000x600 with 1 Axes>"
      ]
     },
     "metadata": {},
     "output_type": "display_data"
    }
   ],
   "source": [
    "import pandas as pd\n",
    "import matplotlib.pyplot as plt\n",
    "\n",
    "# Datos de ejemplo\n",
    "# Convertir la columna won_date a tipo datetime\n",
    "result['won_date'] = pd.to_datetime(result['won_date'], errors='coerce')\n",
    "\n",
    "# Agrupar por mes y contar el número de ocurrencias\n",
    "monthly_counts = result['won_date'].dt.to_period('M').value_counts().sort_index()\n",
    "\n",
    "# Crear el gráfico de barras\n",
    "plt.figure(figsize=(10, 6))\n",
    "monthly_counts.plot(kind='bar')\n",
    "plt.xlabel('Mes')\n",
    "plt.ylabel('Número de Ocurrencias')\n",
    "plt.title('Número de Ocurrencias por Mes según won_date')\n",
    "plt.xticks(rotation=45)\n",
    "plt.show()\n"
   ]
  }
 ],
 "metadata": {
  "kernelspec": {
   "display_name": "Python 3",
   "language": "python",
   "name": "python3"
  },
  "language_info": {
   "codemirror_mode": {
    "name": "ipython",
    "version": 3
   },
   "file_extension": ".py",
   "mimetype": "text/x-python",
   "name": "python",
   "nbconvert_exporter": "python",
   "pygments_lexer": "ipython3",
   "version": "3.11.9"
  }
 },
 "nbformat": 4,
 "nbformat_minor": 2
}
