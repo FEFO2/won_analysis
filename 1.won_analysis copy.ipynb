{
 "cells": [
  {
   "cell_type": "code",
   "execution_count": 2,
   "metadata": {},
   "outputs": [
    {
     "name": "stderr",
     "output_type": "stream",
     "text": [
      "C:\\Users\\ThinkPad-PC\\AppData\\Local\\Temp\\ipykernel_12712\\1692900417.py:3: DtypeWarning: Columns (17,28) have mixed types. Specify dtype option on import or set low_memory=False.\n",
      "  leads = pd.read_csv(r'..\\won_analysis\\all_spain_leads.csv')\n"
     ]
    }
   ],
   "source": [
    "import pandas as pd\n",
    "\n",
    "leads = pd.read_csv(r'..\\won_analysis\\all_spain_leads.csv')"
   ]
  },
  {
   "cell_type": "code",
   "execution_count": 5,
   "metadata": {},
   "outputs": [
    {
     "data": {
      "text/plain": [
       "Index(['id', 'first_name', 'last_name', 'email', 'phone', 'course',\n",
       "       'client_comments', 'language', 'utm_url', 'utm_medium', 'utm_campaign',\n",
       "       'street_address', 'country', 'city', 'latitude', 'longitude', 'state',\n",
       "       'zip_code', 'storage_status', 'created_at', 'updated_at', 'contact_id',\n",
       "       'lead_type', 'location', 'referral_key', 'automations', 'tags', 'gclid',\n",
       "       'browser_lang', 'fb_ad_id', 'fb_adgroup_id', 'fb_form_id',\n",
       "       'fb_leadgen_id', 'fb_page_id', 'utm_source', 'academy_id',\n",
       "       'deal_status', 'sentiment', 'ac_contact_id', 'ac_deal_id', 'user_id',\n",
       "       'won_at', 'ac_expected_cohort', 'current_download',\n",
       "       'lead_generation_app_id', 'utm_content', 'storage_status_text',\n",
       "       'custom_fields', 'sex', 'utm_placement', 'utm_plan', 'utm_term',\n",
       "       'ac_deal_owner_full_name', 'ac_deal_owner_id',\n",
       "       'ac_expected_cohort_date', 'ac_deal_amount', 'ac_deal_currency_code',\n",
       "       'ac_deal_course', 'ac_deal_location', 'attribution_id'],\n",
       "      dtype='object')"
      ]
     },
     "execution_count": 5,
     "metadata": {},
     "output_type": "execute_result"
    }
   ],
   "source": [
    "leads.columns\n",
    "\n"
   ]
  },
  {
   "cell_type": "code",
   "execution_count": 9,
   "metadata": {},
   "outputs": [
    {
     "data": {
      "text/html": [
       "<div>\n",
       "<style scoped>\n",
       "    .dataframe tbody tr th:only-of-type {\n",
       "        vertical-align: middle;\n",
       "    }\n",
       "\n",
       "    .dataframe tbody tr th {\n",
       "        vertical-align: top;\n",
       "    }\n",
       "\n",
       "    .dataframe thead th {\n",
       "        text-align: right;\n",
       "    }\n",
       "</style>\n",
       "<table border=\"1\" class=\"dataframe\">\n",
       "  <thead>\n",
       "    <tr style=\"text-align: right;\">\n",
       "      <th></th>\n",
       "      <th>email</th>\n",
       "      <th>created_at</th>\n",
       "      <th>deal_status</th>\n",
       "      <th>won_at</th>\n",
       "    </tr>\n",
       "  </thead>\n",
       "  <tbody>\n",
       "    <tr>\n",
       "      <th>2</th>\n",
       "      <td>bruke3_voleyutrera@hotmail.com</td>\n",
       "      <td>2021-05-24 12:10:43.730555+00:00</td>\n",
       "      <td>WON</td>\n",
       "      <td>2021-12-01 12:50:15.222963+00:00</td>\n",
       "    </tr>\n",
       "    <tr>\n",
       "      <th>8</th>\n",
       "      <td>dbraccipro@gmail.com</td>\n",
       "      <td>2020-09-29 20:16:16.240585+00:00</td>\n",
       "      <td>WON</td>\n",
       "      <td>2023-05-18 03:27:40.030027+00:00</td>\n",
       "    </tr>\n",
       "    <tr>\n",
       "      <th>40</th>\n",
       "      <td>nitlara@gmail.com</td>\n",
       "      <td>2020-10-21 17:04:05.893727+00:00</td>\n",
       "      <td>WON</td>\n",
       "      <td>2023-05-02 17:22:04.664387+00:00</td>\n",
       "    </tr>\n",
       "    <tr>\n",
       "      <th>75</th>\n",
       "      <td>avelazqc@gmail.com</td>\n",
       "      <td>2020-11-17 12:09:03.184088+00:00</td>\n",
       "      <td>WON</td>\n",
       "      <td>2023-05-18 03:27:59.696924+00:00</td>\n",
       "    </tr>\n",
       "    <tr>\n",
       "      <th>166</th>\n",
       "      <td>a.soibelzon@gmail.com</td>\n",
       "      <td>2022-10-25 20:14:08.121951+00:00</td>\n",
       "      <td>WON</td>\n",
       "      <td>2022-12-05 18:12:59.379112+00:00</td>\n",
       "    </tr>\n",
       "    <tr>\n",
       "      <th>...</th>\n",
       "      <td>...</td>\n",
       "      <td>...</td>\n",
       "      <td>...</td>\n",
       "      <td>...</td>\n",
       "    </tr>\n",
       "    <tr>\n",
       "      <th>56607</th>\n",
       "      <td>beatriz24bcn@hotmail.com</td>\n",
       "      <td>2025-01-14 22:33:00.786578+00:00</td>\n",
       "      <td>WON</td>\n",
       "      <td>2025-01-31 17:12:16.256758+00:00</td>\n",
       "    </tr>\n",
       "    <tr>\n",
       "      <th>56634</th>\n",
       "      <td>thanermerlo@gmail.com</td>\n",
       "      <td>2024-10-03 01:09:50.190123+00:00</td>\n",
       "      <td>WON</td>\n",
       "      <td>2025-02-10 12:57:30.225091+00:00</td>\n",
       "    </tr>\n",
       "    <tr>\n",
       "      <th>56659</th>\n",
       "      <td>adrianbeneroso@hotmail.com</td>\n",
       "      <td>2025-02-10 17:39:00.986351+00:00</td>\n",
       "      <td>WON</td>\n",
       "      <td>2025-02-11 17:52:46.737776+00:00</td>\n",
       "    </tr>\n",
       "    <tr>\n",
       "      <th>56660</th>\n",
       "      <td>zeligmax@gmail.com</td>\n",
       "      <td>2025-02-04 17:28:45.624963+00:00</td>\n",
       "      <td>WON</td>\n",
       "      <td>2025-02-11 17:30:01.341890+00:00</td>\n",
       "    </tr>\n",
       "    <tr>\n",
       "      <th>56672</th>\n",
       "      <td>gbr_360@hotmail.com</td>\n",
       "      <td>2025-01-31 09:54:28.127668+00:00</td>\n",
       "      <td>WON</td>\n",
       "      <td>2025-02-10 15:23:09.295176+00:00</td>\n",
       "    </tr>\n",
       "  </tbody>\n",
       "</table>\n",
       "<p>790 rows × 4 columns</p>\n",
       "</div>"
      ],
      "text/plain": [
       "                                email                        created_at  \\\n",
       "2      bruke3_voleyutrera@hotmail.com  2021-05-24 12:10:43.730555+00:00   \n",
       "8                dbraccipro@gmail.com  2020-09-29 20:16:16.240585+00:00   \n",
       "40                  nitlara@gmail.com  2020-10-21 17:04:05.893727+00:00   \n",
       "75                 avelazqc@gmail.com  2020-11-17 12:09:03.184088+00:00   \n",
       "166             a.soibelzon@gmail.com  2022-10-25 20:14:08.121951+00:00   \n",
       "...                               ...                               ...   \n",
       "56607        beatriz24bcn@hotmail.com  2025-01-14 22:33:00.786578+00:00   \n",
       "56634           thanermerlo@gmail.com  2024-10-03 01:09:50.190123+00:00   \n",
       "56659      adrianbeneroso@hotmail.com  2025-02-10 17:39:00.986351+00:00   \n",
       "56660              zeligmax@gmail.com  2025-02-04 17:28:45.624963+00:00   \n",
       "56672             gbr_360@hotmail.com  2025-01-31 09:54:28.127668+00:00   \n",
       "\n",
       "      deal_status                            won_at  \n",
       "2             WON  2021-12-01 12:50:15.222963+00:00  \n",
       "8             WON  2023-05-18 03:27:40.030027+00:00  \n",
       "40            WON  2023-05-02 17:22:04.664387+00:00  \n",
       "75            WON  2023-05-18 03:27:59.696924+00:00  \n",
       "166           WON  2022-12-05 18:12:59.379112+00:00  \n",
       "...           ...                               ...  \n",
       "56607         WON  2025-01-31 17:12:16.256758+00:00  \n",
       "56634         WON  2025-02-10 12:57:30.225091+00:00  \n",
       "56659         WON  2025-02-11 17:52:46.737776+00:00  \n",
       "56660         WON  2025-02-11 17:30:01.341890+00:00  \n",
       "56672         WON  2025-02-10 15:23:09.295176+00:00  \n",
       "\n",
       "[790 rows x 4 columns]"
      ]
     },
     "execution_count": 9,
     "metadata": {},
     "output_type": "execute_result"
    }
   ],
   "source": [
    "mask = ['email','created_at','deal_status','won_at']\n",
    "leads_won= leads[leads['deal_status'] == 'WON'][mask]\n",
    "leads_won"
   ]
  }
 ],
 "metadata": {
  "kernelspec": {
   "display_name": "Python 3",
   "language": "python",
   "name": "python3"
  },
  "language_info": {
   "codemirror_mode": {
    "name": "ipython",
    "version": 3
   },
   "file_extension": ".py",
   "mimetype": "text/x-python",
   "name": "python",
   "nbconvert_exporter": "python",
   "pygments_lexer": "ipython3",
   "version": "3.11.9"
  }
 },
 "nbformat": 4,
 "nbformat_minor": 2
}
